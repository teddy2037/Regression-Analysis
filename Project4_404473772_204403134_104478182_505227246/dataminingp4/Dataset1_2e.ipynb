{
 "cells": [
  {
   "cell_type": "code",
   "execution_count": 9,
   "metadata": {},
   "outputs": [],
   "source": [
    "from Dataset1_2a import plot_graph_a, plot_graph_b, scalar_encoding\n",
    "from sklearn.model_selection import GridSearchCV\n",
    "from sklearn.preprocessing import LabelBinarizer\n",
    "from sklearn.neighbors import KNeighborsRegressor\n",
    "import pandas as pd\n",
    "from math import sqrt\n",
    "import numpy as np\n",
    "import matplotlib.pyplot as plt"
   ]
  },
  {
   "cell_type": "code",
   "execution_count": 2,
   "metadata": {},
   "outputs": [
    {
     "name": "stdout",
     "output_type": "stream",
     "text": [
      "[[1 'Monday' 1 'work_flow_0' 'File_0' 0.0]\n",
      " [1 'Monday' 1 'work_flow_2' 'File_12' 0.0]\n",
      " [1 'Monday' 1 'work_flow_2' 'File_13' 0.0]\n",
      " ...\n",
      " [15 'Sunday' 21 'work_flow_4' 'File_26' 0.19857243645989475]\n",
      " [15 'Sunday' 21 'work_flow_4' 'File_25' 0.1995700723304316]\n",
      " [15 'Sunday' 21 'work_flow_4' 'File_24' 0.2012005192156364]]\n"
     ]
    }
   ],
   "source": [
    "data = pd.read_csv(\"network_backup_dataset.csv\")\n",
    "days = {'Monday':1, 'Tuesday':2, 'Wednesday':3, 'Thursday':4, 'Friday':5, 'Saturday':6, 'Sunday':7}\n",
    "work_flows = {'work_flow_0':0,'work_flow_1':1,'work_flow_2':2,'work_flow_3':3,'work_flow_4':4}\n",
    "\n",
    "strip_data = data[['Week #', 'Day of Week', 'Backup Start Time - Hour of Day', \\\n",
    "'Work-Flow-ID', 'File Name','Size of Backup (GB)']].values\n",
    "print strip_data"
   ]
  },
  {
   "cell_type": "code",
   "execution_count": 5,
   "metadata": {},
   "outputs": [],
   "source": [
    "scal_data = np.array(scalar_encoding(strip_data))\n",
    "One_HOT = np.array([])\n",
    "\n",
    "for i in range(0,5):\n",
    "    enc = LabelBinarizer()\n",
    "    scal_data1 = enc.fit_transform(scal_data[:,i])\n",
    "    if One_HOT.size == 0:\n",
    "        One_HOT = scal_data1\n",
    "    else:\n",
    "        One_HOT = np.concatenate((One_HOT, scal_data1), axis = 1)\n",
    "One_HOT = np.concatenate((One_HOT, strip_data[:,-1].reshape(-1,1)), axis = 1)\n"
   ]
  },
  {
   "cell_type": "code",
   "execution_count": 11,
   "metadata": {},
   "outputs": [
    {
     "data": {
      "text/plain": [
       "GridSearchCV(cv=10, error_score='raise-deprecating',\n",
       "       estimator=KNeighborsRegressor(algorithm='auto', leaf_size=30, metric='minkowski',\n",
       "          metric_params=None, n_jobs=None, n_neighbors=5, p=2,\n",
       "          weights='uniform'),\n",
       "       fit_params=None, iid='warn', n_jobs=None,\n",
       "       param_grid={'n_neighbors': [1, 2, 5, 10, 20, 50, 100]},\n",
       "       pre_dispatch='2*n_jobs', refit=True, return_train_score=True,\n",
       "       scoring='neg_mean_squared_error', verbose=0)"
      ]
     },
     "execution_count": 11,
     "metadata": {},
     "output_type": "execute_result"
    }
   ],
   "source": [
    "parameters = {'n_neighbors' : [1,2,5,10,20,50,100]}\n",
    "\n",
    "gs = GridSearchCV(KNeighborsRegressor(),parameters, cv = 10, \\\n",
    "                  scoring = \"neg_mean_squared_error\", return_train_score = True)\n",
    "\n",
    "gs.fit(One_HOT[:,:-1], One_HOT[:,-1])"
   ]
  },
  {
   "cell_type": "code",
   "execution_count": 12,
   "metadata": {},
   "outputs": [
    {
     "name": "stdout",
     "output_type": "stream",
     "text": [
      "0.025547381695\n",
      "{'rank_test_score': array([6, 4, 3, 1, 2, 5, 7], dtype=int32), 'split6_test_score': array([-0.00504497, -0.00209723, -0.0023687 , -0.00071652, -0.00102694,\n",
      "       -0.00328584, -0.0032682 ]), 'param_n_neighbors': masked_array(data=[1, 2, 5, 10, 20, 50, 100],\n",
      "             mask=[False, False, False, False, False, False, False],\n",
      "       fill_value='?',\n",
      "            dtype=object), 'split7_train_score': array([-0.        , -0.00321773, -0.00218102, -0.00146867, -0.00176604,\n",
      "       -0.00294229, -0.00467501]), 'split0_train_score': array([-0.        , -0.00267846, -0.00219063, -0.00147146, -0.00174308,\n",
      "       -0.00293831, -0.00451483]), 'split2_test_score': array([-0.00240316, -0.0025109 , -0.00230993, -0.00067239, -0.00118611,\n",
      "       -0.00360104, -0.00323346]), 'mean_fit_time': array([0.36410728, 0.36986306, 0.39925685, 0.36794465, 0.36121328,\n",
      "       0.37130699, 0.36155343]), 'split3_train_score': array([-0.        , -0.00301724, -0.00217897, -0.0014742 , -0.00172455,\n",
      "       -0.00292209, -0.00468444]), 'split6_train_score': array([-0.        , -0.00276051, -0.00205803, -0.00135751, -0.00172912,\n",
      "       -0.00287317, -0.00447686]), 'split9_test_score': array([-0.00030308, -0.00025413, -0.00020797, -0.00045541, -0.00077311,\n",
      "       -0.00158961, -0.0019579 ]), 'std_test_score': array([2.07431223e-03, 9.38674031e-04, 7.24322531e-04, 9.42991682e-05,\n",
      "       1.84543555e-04, 7.42932345e-04, 5.09105468e-04]), 'params': [{'n_neighbors': 1}, {'n_neighbors': 2}, {'n_neighbors': 5}, {'n_neighbors': 10}, {'n_neighbors': 20}, {'n_neighbors': 50}, {'n_neighbors': 100}], 'std_fit_time': array([0.03993958, 0.04035124, 0.0209728 , 0.03525226, 0.02212871,\n",
      "       0.02556702, 0.02014009]), 'std_score_time': array([0.01901932, 0.02747684, 0.08310362, 0.08402611, 0.07548544,\n",
      "       0.0324575 , 0.11923067]), 'split8_test_score': array([-0.00556698, -0.00191895, -0.00216754, -0.00065065, -0.00090248,\n",
      "       -0.00324653, -0.00327735]), 'std_train_score': array([0.00000000e+00, 1.64412652e-04, 8.80530391e-05, 4.17874588e-05,\n",
      "       3.38234200e-05, 2.34000748e-05, 9.74954459e-05]), 'split4_test_score': array([-0.00258389, -0.00202068, -0.00252236, -0.00073072, -0.00118142,\n",
      "       -0.00344061, -0.00332336]), 'split1_train_score': array([-0.        , -0.00266292, -0.0021765 , -0.0014809 , -0.00172583,\n",
      "       -0.00291552, -0.00472113]), 'split2_train_score': array([-0.        , -0.00281943, -0.00232321, -0.00140231, -0.00172008,\n",
      "       -0.00294392, -0.00471387]), 'split4_train_score': array([-0.        , -0.00297932, -0.0022054 , -0.0014272 , -0.00171935,\n",
      "       -0.0028884 , -0.00455518]), 'mean_score_time': array([0.44183834, 0.51222072, 0.77774291, 1.19175086, 1.70394423,\n",
      "       1.75580349, 2.01785512]), 'split9_train_score': array([-0.        , -0.00289101, -0.00239632, -0.00149309, -0.00183529,\n",
      "       -0.00294792, -0.00467853]), 'split5_test_score': array([-0.0005615 , -0.00041476, -0.00098731, -0.00063375, -0.00058516,\n",
      "       -0.0015281 , -0.002593  ]), 'mean_train_score': array([ 0.        , -0.00285744, -0.00221729, -0.00144066, -0.00174233,\n",
      "       -0.00292289, -0.00462122]), 'split8_train_score': array([-0.        , -0.00272743, -0.00219141, -0.00143009, -0.00173845,\n",
      "       -0.00293088, -0.00447672]), 'split7_test_score': array([-0.00230591, -0.00218422, -0.00174346, -0.00059311, -0.00079834,\n",
      "       -0.00228626, -0.00232973]), 'split0_test_score': array([-0.00054686, -0.00185135, -0.00271279, -0.00083345, -0.00104505,\n",
      "       -0.00322004, -0.00348565]), 'mean_test_score': array([-0.00271541, -0.00187286, -0.00185403, -0.00065267, -0.00091331,\n",
      "       -0.00266344, -0.00283592]), 'split3_test_score': array([-0.00627816, -0.00373532, -0.00178711, -0.00064003, -0.0007681 ,\n",
      "       -0.00212237, -0.00242192]), 'split5_train_score': array([-0.        , -0.00282035, -0.00227142, -0.00140117, -0.00172148,\n",
      "       -0.0029264 , -0.00471562]), 'split1_test_score': array([-0.00155984, -0.00174018, -0.00173244, -0.00060055, -0.00086635,\n",
      "       -0.00231373, -0.00246844])}\n",
      "KNeighborsRegressor(algorithm='auto', leaf_size=30, metric='minkowski',\n",
      "          metric_params=None, n_jobs=None, n_neighbors=10, p=2,\n",
      "          weights='uniform')\n"
     ]
    }
   ],
   "source": [
    "print sqrt(-gs.best_score_)\n",
    "print gs.cv_results_\n",
    "print gs.best_estimator_"
   ]
  },
  {
   "cell_type": "code",
   "execution_count": 14,
   "metadata": {},
   "outputs": [
    {
     "name": "stdout",
     "output_type": "stream",
     "text": [
      "Fitting 10 folds for each of 6 candidates, totalling 60 fits\n"
     ]
    },
    {
     "name": "stderr",
     "output_type": "stream",
     "text": [
      "[Parallel(n_jobs=1)]: Using backend SequentialBackend with 1 concurrent workers.\n",
      "[Parallel(n_jobs=1)]: Done  60 out of  60 | elapsed:  7.5min finished\n"
     ]
    },
    {
     "name": "stdout",
     "output_type": "stream",
     "text": [
      "0.025547381695\n",
      "{'rank_test_score': array([6, 4, 3, 1, 2, 5], dtype=int32), 'split6_test_score': array([-0.00504497, -0.00209723, -0.0023687 , -0.00071652, -0.00102694,\n",
      "       -0.00328584]), 'param_n_neighbors': masked_array(data=[1, 2, 5, 10, 20, 50],\n",
      "             mask=[False, False, False, False, False, False],\n",
      "       fill_value='?',\n",
      "            dtype=object), 'split7_train_score': array([-0.        , -0.00321773, -0.00218102, -0.00146867, -0.00176604,\n",
      "       -0.00294229]), 'split0_train_score': array([-0.        , -0.00267846, -0.00219063, -0.00147146, -0.00174308,\n",
      "       -0.00293831]), 'split2_test_score': array([-0.00240316, -0.0025109 , -0.00230993, -0.00067239, -0.00118611,\n",
      "       -0.00360104]), 'mean_fit_time': array([0.37285254, 0.3426239 , 0.36454751, 0.36186688, 0.37505021,\n",
      "       0.34258657]), 'split3_train_score': array([-0.        , -0.00301724, -0.00217897, -0.0014742 , -0.00172455,\n",
      "       -0.00292209]), 'split6_train_score': array([-0.        , -0.00276051, -0.00205803, -0.00135751, -0.00172912,\n",
      "       -0.00287317]), 'split9_test_score': array([-0.00030308, -0.00025413, -0.00020797, -0.00045541, -0.00077311,\n",
      "       -0.00158961]), 'std_test_score': array([2.07431223e-03, 9.38674031e-04, 7.24322531e-04, 9.42991682e-05,\n",
      "       1.84543555e-04, 7.42932345e-04]), 'params': [{'n_neighbors': 1}, {'n_neighbors': 2}, {'n_neighbors': 5}, {'n_neighbors': 10}, {'n_neighbors': 20}, {'n_neighbors': 50}], 'std_fit_time': array([0.03996654, 0.0311416 , 0.03061746, 0.04113176, 0.0381346 ,\n",
      "       0.02308572]), 'std_score_time': array([0.01653365, 0.02054457, 0.03547472, 0.02986109, 0.0217505 ,\n",
      "       0.02880635]), 'split8_test_score': array([-0.00556698, -0.00191895, -0.00216754, -0.00065065, -0.00090248,\n",
      "       -0.00324653]), 'std_train_score': array([0.00000000e+00, 1.64412652e-04, 8.80530391e-05, 4.17874588e-05,\n",
      "       3.38234200e-05, 2.34000748e-05]), 'split4_test_score': array([-0.00258389, -0.00202068, -0.00252236, -0.00073072, -0.00118142,\n",
      "       -0.00344061]), 'split1_train_score': array([-0.        , -0.00266292, -0.0021765 , -0.0014809 , -0.00172583,\n",
      "       -0.00291552]), 'split2_train_score': array([-0.        , -0.00281943, -0.00232321, -0.00140231, -0.00172008,\n",
      "       -0.00294392]), 'split4_train_score': array([-0.        , -0.00297932, -0.0022054 , -0.0014272 , -0.00171935,\n",
      "       -0.0028884 ]), 'mean_score_time': array([0.39188743, 0.44505215, 0.64363322, 1.06051266, 1.56400297,\n",
      "       1.65055087]), 'split9_train_score': array([-0.        , -0.00289101, -0.00239632, -0.00149309, -0.00183529,\n",
      "       -0.00294792]), 'split5_test_score': array([-0.0005615 , -0.00041476, -0.00098731, -0.00063375, -0.00058516,\n",
      "       -0.0015281 ]), 'mean_train_score': array([ 0.        , -0.00285744, -0.00221729, -0.00144066, -0.00174233,\n",
      "       -0.00292289]), 'split8_train_score': array([-0.        , -0.00272743, -0.00219141, -0.00143009, -0.00173845,\n",
      "       -0.00293088]), 'split7_test_score': array([-0.00230591, -0.00218422, -0.00174346, -0.00059311, -0.00079834,\n",
      "       -0.00228626]), 'split0_test_score': array([-0.00054686, -0.00185135, -0.00271279, -0.00083345, -0.00104505,\n",
      "       -0.00322004]), 'mean_test_score': array([-0.00271541, -0.00187286, -0.00185403, -0.00065267, -0.00091331,\n",
      "       -0.00266344]), 'split3_test_score': array([-0.00627816, -0.00373532, -0.00178711, -0.00064003, -0.0007681 ,\n",
      "       -0.00212237]), 'split5_train_score': array([-0.        , -0.00282035, -0.00227142, -0.00140117, -0.00172148,\n",
      "       -0.0029264 ]), 'split1_test_score': array([-0.00155984, -0.00174018, -0.00173244, -0.00060055, -0.00086635,\n",
      "       -0.00231373])}\n",
      "KNeighborsRegressor(algorithm='auto', leaf_size=30, metric='manhattan',\n",
      "          metric_params=None, n_jobs=None, n_neighbors=10, p=2,\n",
      "          weights='uniform')\n"
     ]
    }
   ],
   "source": [
    "parameters = {'n_neighbors' : [1,2,5,10,20,50]}\n",
    "\n",
    "gs = GridSearchCV(KNeighborsRegressor(metric = \"manhattan\"),parameters, cv = 10, \\\n",
    "                  scoring = \"neg_mean_squared_error\", return_train_score = True, verbose = 1)\n",
    "\n",
    "gs.fit(One_HOT[:,:-1], One_HOT[:,-1])\n",
    "print sqrt(-gs.best_score_)\n",
    "print gs.cv_results_\n",
    "print gs.best_estimator_"
   ]
  },
  {
   "cell_type": "code",
   "execution_count": 23,
   "metadata": {},
   "outputs": [
    {
     "name": "stdout",
     "output_type": "stream",
     "text": [
      "Fitting 10 folds for each of 1 candidates, totalling 10 fits\n",
      "[CV] n_neighbors=10 ..................................................\n"
     ]
    },
    {
     "name": "stderr",
     "output_type": "stream",
     "text": [
      "[Parallel(n_jobs=1)]: Using backend SequentialBackend with 1 concurrent workers.\n"
     ]
    },
    {
     "name": "stdout",
     "output_type": "stream",
     "text": [
      "[CV] ................................... n_neighbors=10, total=   1.5s\n",
      "[CV] n_neighbors=10 ..................................................\n"
     ]
    },
    {
     "name": "stderr",
     "output_type": "stream",
     "text": [
      "[Parallel(n_jobs=1)]: Done   1 out of   1 | elapsed:    6.7s remaining:    0.0s\n"
     ]
    },
    {
     "name": "stdout",
     "output_type": "stream",
     "text": [
      "[CV] ................................... n_neighbors=10, total=   1.4s\n",
      "[CV] n_neighbors=10 ..................................................\n",
      "[CV] ................................... n_neighbors=10, total=   1.4s\n",
      "[CV] n_neighbors=10 ..................................................\n",
      "[CV] ................................... n_neighbors=10, total=   1.5s\n",
      "[CV] n_neighbors=10 ..................................................\n",
      "[CV] ................................... n_neighbors=10, total=   1.4s\n",
      "[CV] n_neighbors=10 ..................................................\n",
      "[CV] ................................... n_neighbors=10, total=   1.4s\n",
      "[CV] n_neighbors=10 ..................................................\n",
      "[CV] ................................... n_neighbors=10, total=   1.5s\n",
      "[CV] n_neighbors=10 ..................................................\n",
      "[CV] ................................... n_neighbors=10, total=   1.4s\n",
      "[CV] n_neighbors=10 ..................................................\n",
      "[CV] ................................... n_neighbors=10, total=   1.4s\n",
      "[CV] n_neighbors=10 ..................................................\n",
      "[CV] ................................... n_neighbors=10, total=   1.5s\n"
     ]
    },
    {
     "name": "stderr",
     "output_type": "stream",
     "text": [
      "[Parallel(n_jobs=1)]: Done  10 out of  10 | elapsed:  1.1min finished\n"
     ]
    },
    {
     "name": "stdout",
     "output_type": "stream",
     "text": [
      "0.025547381695\n",
      "{'rank_test_score': array([1], dtype=int32), 'split6_test_score': array([-0.00071652]), 'param_n_neighbors': masked_array(data=[10],\n",
      "             mask=[False],\n",
      "       fill_value='?',\n",
      "            dtype=object), 'split7_train_score': array([-0.00146867]), 'split0_train_score': array([-0.00147146]), 'split2_test_score': array([-0.00067239]), 'mean_fit_time': array([0.37376575]), 'split3_train_score': array([-0.0014742]), 'split6_train_score': array([-0.00135751]), 'split9_test_score': array([-0.00045541]), 'std_test_score': array([9.42991682e-05]), 'params': [{'n_neighbors': 10}], 'std_fit_time': array([0.03637522]), 'std_score_time': array([0.02728696]), 'split8_test_score': array([-0.00065065]), 'std_train_score': array([4.17874588e-05]), 'split4_test_score': array([-0.00073072]), 'split1_train_score': array([-0.0014809]), 'split2_train_score': array([-0.00140231]), 'split4_train_score': array([-0.0014272]), 'mean_score_time': array([1.07353082]), 'split9_train_score': array([-0.00149309]), 'split5_test_score': array([-0.00063375]), 'mean_train_score': array([-0.00144066]), 'split8_train_score': array([-0.00143009]), 'split7_test_score': array([-0.00059311]), 'split0_test_score': array([-0.00083345]), 'mean_test_score': array([-0.00065267]), 'split3_test_score': array([-0.00064003]), 'split5_train_score': array([-0.00140117]), 'split1_test_score': array([-0.00060055])}\n",
      "KNeighborsRegressor(algorithm='auto', leaf_size=30, metric='manhattan',\n",
      "          metric_params=None, n_jobs=None, n_neighbors=10, p=2,\n",
      "          weights='uniform')\n"
     ]
    }
   ],
   "source": [
    "parameters1 = {\"n_neighbors\": [10]}\n",
    "\n",
    "gs1 = GridSearchCV(KNeighborsRegressor(metric = \"manhattan\"),parameters1, cv = 10, \\\n",
    "                  scoring = \"neg_mean_squared_error\", return_train_score = True, verbose = 2)\n",
    "\n",
    "gs1.fit(One_HOT[:,:-1], One_HOT[:,-1])\n",
    "print sqrt(-gs1.best_score_)\n",
    "print gs1.cv_results_\n",
    "print gs1.best_estimator_"
   ]
  },
  {
   "cell_type": "code",
   "execution_count": 24,
   "metadata": {},
   "outputs": [
    {
     "name": "stdout",
     "output_type": "stream",
     "text": [
      "0.0380065125998\n"
     ]
    }
   ],
   "source": [
    "train_scores = [-0.00146867, -0.00147146, -0.0014742, -0.00135751,\\\n",
    "-0.0014809,-0.0014272, -0.00149309, -0.00144066, -0.00143009, -0.00140117]\n",
    "print sqrt(-(sum(train_scores) / 10.0))"
   ]
  },
  {
   "cell_type": "code",
   "execution_count": 25,
   "metadata": {},
   "outputs": [
    {
     "data": {
      "image/png": "[encoded data removed]",
      "text/plain": [
       "<Figure size 432x288 with 1 Axes>"
      ]
     },
     "metadata": {
      "needs_background": "light"
     },
     "output_type": "display_data"
    },
    {
     "data": {
      "image/png": "[encoded data removed]",
      "text/plain": [
       "<Figure size 432x288 with 1 Axes>"
      ]
     },
     "metadata": {
      "needs_background": "light"
     },
     "output_type": "display_data"
    }
   ],
   "source": [
    "y_out = gs1.predict(One_HOT[:,:-1])\n",
    "\n",
    "plot_graph_a(One_HOT[:,-1], y_out, \"k-Nearest Neighbors\")\n",
    "plot_graph_b(y_out, (One_HOT[:,-1] - y_out), \"k-Nearest Neighbors\")"
   ]
  },
  {
   "cell_type": "code",
   "execution_count": null,
   "metadata": {},
   "outputs": [],
   "source": []
  }
 ],
 "metadata": {
  "kernelspec": {
   "display_name": "Python 2",
   "language": "python",
   "name": "python2"
  },
  "language_info": {
   "codemirror_mode": {
    "name": "ipython",
    "version": 2
   },
   "file_extension": ".py",
   "mimetype": "text/x-python",
   "name": "python",
   "nbconvert_exporter": "python",
   "pygments_lexer": "ipython2",
   "version": "2.7.10"
  }
 },
 "nbformat": 4,
 "nbformat_minor": 2
}
